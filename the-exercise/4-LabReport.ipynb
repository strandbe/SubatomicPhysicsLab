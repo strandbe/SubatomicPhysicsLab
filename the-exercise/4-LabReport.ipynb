{
 "cells": [
  {
   "cell_type": "markdown",
   "metadata": {},
   "source": [
    "## <center> Lab report"
   ]
  },
  {
   "cell_type": "markdown",
   "metadata": {},
   "source": [
    "You are required to write a report describing the lab and your results. Here are a few things to remember\n",
    "* Write the report as if a fellow student that have not done the lab is the reader. She should be able to understand what you have done, why and how.\n",
    "* Explain from where you get your data.\n",
    "* Describe how the ATLAS detector works and how it is used to detect different particles.\n",
    "* Explain how the data is filtered (are any selections made on the leptons and/or the events?) to find $Z^0$ boson candidates. This will require a description of the $Z^0$ boson itself. \n",
    "* All figures and tables must be labeled with a caption, and be referred to in the main text.\n",
    "* Explain in detail how the invariant mass distribution is constructed and how the fit is done. What function is used? Did you use any particular model to fit the data on the sides of the peak?\n",
    "* Present your results, preferably in a table, together with reference values. Do they agree? If yes, good! If no, try to explain why. Discuss."
   ]
  }
 ],
 "metadata": {
  "kernelspec": {
   "display_name": "Python 3",
   "language": "python",
   "name": "python3"
  },
  "language_info": {
   "codemirror_mode": {
    "name": "ipython",
    "version": 3
   },
   "file_extension": ".py",
   "mimetype": "text/x-python",
   "name": "python",
   "nbconvert_exporter": "python",
   "pygments_lexer": "ipython3",
   "version": "3.6.6"
  }
 },
 "nbformat": 4,
 "nbformat_minor": 2
}
