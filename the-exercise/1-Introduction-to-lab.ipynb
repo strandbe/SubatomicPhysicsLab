{
 "cells": [
  {
   "cell_type": "markdown",
   "metadata": {},
   "source": [
    " ## <CENTER> Lab: Measurement of the mass of the $Z^0$ boson using data from the ATLAS experiment\n",
    "<img src=\"images/vp1_Htautau_1muon1electron_run204153_evt35369265.png\" style=\"width: 800px;\">"
   ]
  },
  {
   "cell_type": "markdown",
   "metadata": {},
   "source": [
    "## 1.1 Introduction\n",
    "   \n",
    "In this lab you will analyze real data from the ATLAS experiment at CERN's Large Hadron Collider! The experiment has made a small part of the data collected in 2012 available for the general public. The data contains the reconstructed particles and energy deposits from proton-proton collisions at $\\sqrt{s}=8$ TeV. You will analyze the data with the `python` programming language in this interactive environment where you are reading these instructions.\n",
    "The goal is to measure the mass of the $Z^0$ boson by reconstructing the *invariant mass* of electron-positron and muon-antimuon pairs registered in the ATLAS detector.\n",
    "___________________________________________________________"
   ]
  },
  {
   "cell_type": "markdown",
   "metadata": {},
   "source": [
    "## 1.2 Events in ATLAS\n",
    "    \n",
    "The Large Hadron Collider at CERN outside Geneva accelerates bunches of protons ($10^{11}$ protons/bunch) up to near-speed-of-light velocities in two beams traveling in opposite directions around the 27-km circular tunnel. The beams are crossed at four different points to create high-energy collisions between pairs of protons, and around these points large experiments are situated to study the processes: ATLAS, CMS, LHCb and ALICE. Today you will analyze data from the ATLAS experiment. \n",
    "\n",
    "Every time two bunches cross inside ATLAS (every 25 nanoseconds) approximately 40 individual proton pairs collide. From the energy of the protons that collide, other particles, such as the $Z^0$ boson, can be created and studied. Many of the particles of interest in the studies are unstable and have short lifetimes, so they will decay before reaching the detector. The stable particles appearing at the end of the decay chain fly out through the detector and can be registered (depending on the type of particle). Every such \"photo\" of all the particles registered by the detector from one bunch crossing is called an \"event\". Events, which are of order 1 MB in size, are stored in data files, like the ones you will be analysing today. The files are organised like tables where each row is an event, each column corresponds to some information about an event, e.g. the number of obserbed electrons and their respective energies.\n",
    "\n",
    "Below is an illustration of the ATLAS detector and in the next section we will see how its pieces all help to identify different types of particles created in the collisions.\n",
    "\n",
    "\n",
    "<img src=\"images/ATLASImage.jpg\" style=\"width: 800px;\">"
   ]
  },
  {
   "cell_type": "markdown",
   "metadata": {},
   "source": [
    "## 1.3 Particle identification with ATLAS\n",
    "The ATLAS detector is designed to identify different particles with high efficiency. \n",
    "It is composed of main four subsystems installed in layers around the collision point:\n",
    "* <b> Inner tracking detector </b> This detector is mainly made up of thin layers of silicon in which charged particles interact. A strong solenoidal magnetic field bends the trajectories of charged particles, and by determining the curvature of the tracks that the charged particles leave, their momentum can be measured.\n",
    "* <b> Electromagnetic calorimeter </b> This detector mainly consists of liquid argon and copper. It is designed to measure the energy of electrons ($e^-$), positrons ($e^+$) and photons ($\\gamma$). These particles give rise to *showers* of energy when interacting with the detector material. The energy deposited in these showers is measured and used to estimate the energy of the original particles.\n",
    "* <b> Hadronic calorimeter </b> Hadrons are particles made up of quarks, e.g. protons ($uud$) and pions ($q\\bar{q}$). They are heavier than electrons and only leave a small part of their energy in the electromagnetic calorimeter. Hadrons are instead stopped by the hadronic calorimeter, which consists of steel and plastic scintillators.\n",
    "* <b> Muon spectrometer </b> Muons and anti-muons penetrate all of the above systems and reach the dedicated muon detector. The muons have electric charge and are measured in a similar way as the charged particles in the inner tracking detector. The muon spectrometer is the largest subsystem and consists mainly of drift tubes with gas that is ionized by the charged particles passing through. A toroidal magnetic field provides bending of the trajectories of the muons which allows measuring their momenta.\n",
    "\n",
    "<img src=\"images/experiment.png\">\n"
   ]
  },
  {
   "cell_type": "markdown",
   "metadata": {},
   "source": [
    "## 1.4 The $Z^0$ boson\n",
    "In the Standard Model of particle physics, there are matter particles, fermions, which have half-integer spin ($\\hbar/2$). Particles with integer spin ($n\\hbar$) are called bosons and act as force carriers, mediating interaction. The photon is the mediator for the electromagnetic force, and gluons mediate the strong force.\n",
    "\n",
    "The $Z^0$ and $W^{\\pm}$ bosons mediate the weak nuclear force, responsible for e.g. radioactive decay.\n",
    "The $Z^0$ boson was discovered at CERN in 1983 using the Super Proton Synchrotron (by then the most powerful accelerator, now it's used as part of the accelerator chain leading up to the LHC).\n",
    "It is a heavy particle, weighing almost as much as a silver atom.\n",
    "Look up the mass value and its corresponding uncertainty, provided by the Particle Data Group.\n",
    "(The Particle Data Group reviews measurements from different experiments and by combining them provides the most precise values known to-date.)\n",
    "The values will be needed when writing your report, for comparison with your own measured value.\n",
    "\n",
    "The lifetime of the $Z^0$ boson is incredibly short ($3×10^{−25}$ s).\n",
    "After it is produced in a $pp$ collision it decays promptly to two fermions, e.g. an electron-positron pair, represented by the <a href=\"https://en.wikipedia.org/wiki/Feynman_diagram\">Feynman diagram</a> below.\n",
    "It may also decay to a muon-antimuon pair (replace the $e$:s by $\\mu$:s in right of the diagram).\n",
    "<b> We may therefore search for $Z^0$ bosons in data by filtering for events with electron-positron or muon-antimuon pairs. </b>\n",
    "What about decay to quark-antiquark pairs?\n",
    "In fact, the boson more often decays to quarks than to electrons and muons.\n",
    "The issue is that final states with quarks are experimentally challenging, because they are very common to produce at hadron colliders, without any $Z^0$ boson being involved. This means that there is a lot of _background_ when trying to measure the $Z^0 \\rightarrow q\\bar{q}$ _signal_.\n",
    "Very few other processes give $e^+e^-$ and $\\mu^+\\mu^-$ pairs, so by choosing the events with electrons and muons we get a *cleaner* final state without much background."
   ]
  },
  {
   "cell_type": "markdown",
   "metadata": {},
   "source": [
    "\n",
    "\n",
    "<img src=\"images/Z_ElectronPositron.png\" style=\"width: 400px;\">\n"
   ]
  },
  {
   "cell_type": "markdown",
   "metadata": {},
   "source": [
    "## 1.5 Coordinate system and invariant mass\n",
    "If an event contains two electrons, we can reconstruct the invariant mass of this two-electron system.\n",
    "With the approximation that the electrons are massless, the formula for the invariant mass is given by (1) below,\n",
    "where 1 and 2 are indices for the two electrons, $p$ stands for momentum and $\\alpha$ is the angle between the electrons (in the lab frame).\n",
    "\n",
    "The coordinate system used is illustrated by the figures below. \n",
    "The $z$-axis is parallel to the beam direction, the $y$-axis points up and the $x$-axis points into the center of the LHC ring. \n",
    "In ATLAS, the *tranverse momentum*, $p_\\rm{T}$, of a particle is measured. This quantity is the projection of the momentum in the plane perpendicular (or transverse) to the beam direction, i.e. in the $x$-$y$ plane. To calculate this, let's first define a few angles. \n",
    "* The angle $\\theta$ is defined as the angle between the particle and the $z$-axis, and is measured as well. \n",
    "Typically, \"pseudorapidity\" $\\eta$ is used instead of $\\theta$, defined according to the bottom figure below. \n",
    "* The angle $\\phi$ describes the direction of the particle in the $x$-$y$ plane, defined as the angle between momentum projected in the $x$-$y$ plane and the positive $x$-axis.\n",
    "The transverse momentum is the component of the momentum in the transverse plane, i.e. the $x$-$y$ plane.\n",
    "With these variables defined, the invariant mass is given by (2) below. \n",
    "____________________________________________________________________\n",
    "<img src=\"https://www.lhc-closer.es/webapp/files/1435504163_ad6fd1cc4163a3a2d3c54388c80c45ba.jpg\" style=\"width: 500px;\">\n",
    "\n",
    "\n",
    "\n",
    "\n"
   ]
  },
  {
   "cell_type": "markdown",
   "metadata": {},
   "source": [
    "$$\n",
    "m^2 \\approx 2 ( E_1 E_2 - \\vec{p_1}\\cdot\\vec{p_2}) \\approx 2 p_1 p_2 (1 - \\cos\\alpha) \\qquad \\quad (1)\n",
    "$$\n",
    "\n",
    "\n",
    "$$\n",
    "m^2 \\approx 2 p_\\rm{T1} p_\\rm{T2} (\\cosh(\\eta_1 - \\eta_2) - \\cos(\\phi_1 - \\phi_2)) \\qquad (2)\n",
    "$$"
   ]
  },
  {
   "cell_type": "markdown",
   "metadata": {},
   "source": [
    "## 1.6 Data analysis with ROOT\n",
    "We import the library ROOT which comes with tools for analysing and visualising the data. ROOT is written in C++ but a python interface allows convenient use of it from a python interpreter environment."
   ]
  },
  {
   "cell_type": "code",
   "execution_count": 1,
   "metadata": {},
   "outputs": [
    {
     "name": "stdout",
     "output_type": "stream",
     "text": [
      "Welcome to JupyROOT 6.14/00\n"
     ]
    }
   ],
   "source": [
    "import ROOT"
   ]
  },
  {
   "cell_type": "markdown",
   "metadata": {},
   "source": [
    "### Our first event loop\n",
    "We first download ATLAS open data from the web and load it into a ROOT \"tree\". The tree is a data structure which holds the variables representing the particles and detector signals in an event in different _branches_. Each event is stored in a separate _entry_ that can be loaded into the tree.\n",
    "We start by looking at simulated data which contains events where a $Z^0$ boson decays to electron-positron pair.\n"
   ]
  },
  {
   "cell_type": "code",
   "execution_count": 5,
   "metadata": {},
   "outputs": [],
   "source": [
    "# Open a file with simulated data, containing events with Z bosons decaying to electron-positron pairs (hence the \"Zee\" in the file name)\n",
    "f = ROOT.TFile.Open(\"http://opendata.atlas.cern/release/samples/MC/mc_147770.Zee.root\")\n",
    "tree = f.Get(\"mini\") # [ENG] get the tree (called \"mini\"). Every \"row\" in a tree is an event"
   ]
  },
  {
   "cell_type": "markdown",
   "metadata": {},
   "source": [
    "#### Tree content (what data is available?)\n",
    "Before creating a loop where several events are processed sequentially, let's first look at what data is stored for each event. The branches in the tree called \"mini\" representing variables of the event are listed below. The value of a variable is retrieved with `tree.<branch_name>`. Since you in this lab will be looking at electrons and/or muons, which are leptons, the variables named `lep_*` will be of primary interest.\n",
    "\n",
    " <font size=\"3\"><b>branch name</b></font> | <font size=\"3\"><b>type</b></font> | <font size=\"3\"><b>description</b></font> |\n",
    " ------------- | :-------------: | :-----: |\n",
    " <b id=\"runNumber\">runNumber</b>               | int           | runNumber |\n",
    " <b id=\"eventNumber\">eventNumber</b>           | int           | eventNumber |\n",
    " <b id=\"channelNumber\">channelNumber</b>       | int           | channelNumber ||\n",
    " <b id=\"mcWeight\">mcWeight</b>                 | float         | weight of an MC event |\n",
    " <b id=\"pvxp_n\">pvxp_n</b>                     | int           | number of primary vertices |\n",
    " <b id=\"scaleFactor\">scaleFactor</b>           | float         | overall scale factor for the preselected event |\n",
    " <b id=\"trigE\">trigE</b>                       | bool          | boolean whether a standard trigger has fired in the egamma stream |\n",
    " <b id=\"trigM\">trigM</b>                       | bool          | boolean whether a standard trigger has fired in the muon stream |\n",
    " <b id=\"passGRL\">passGRL</b>                   | bool          | signifies whether event passes the GRL may be put in isGoodEvent |\n",
    " <b id=\"lep_n\">lep_n</b>                       | int           | number of preselected leptons |\n",
    " <b id=\"lep_truthMatched\">lep_truthMatched</b> | vector<bool>  | boolean indicating whether the lepton is matched to a truth lepton |\n",
    " <b id=\"lep_trigMatched\">lep_trigMatched</b>   | vector<bool>  | boolean signifying whether the lepton is the one triggering the event |\n",
    " <b id=\"lep_pt\">lep_pt</b>                    | vector<float> | transverse momentum of the lepton |\n",
    " <b id=\"lep_eta\">lep_eta</b>                  | vector<float> | pseudo-rapidity of the lepton |\n",
    " <b id=\"lep_phi\">lep_phi</b>                  | vector<float> | azimuthal angle of the lepton |\n",
    " <b id=\"lep_E\">lep_E</b>                      | vector<float> | energy of the lepton |\n",
    " <b id=\"lep_z0\">lep_z0</b>                    | vector<float> | z-coordinate of the track associated to the lepton wrt. the primary vertex |\n",
    " <b id=\"lep_charge\">lep_charge</b>            | vector<float> | charge of the lepton |\n",
    " <b id=\"lep_isTight\">lep_isTight</b>          | vector<bool>  | boolean indicating whether the lepton is of tight quality |\n",
    " <b id=\"lep_flag\">lep_flag</b>                | vector<int>   | bitmask implementing object cuts of the top group |\n",
    " <b id=\"lep_type\">lep_type</b>                | vector<int>   | number signifying the lepton type (e, mu, tau) of the lepton |\n",
    " <b id=\"lep_ptcone30\">lep_ptcone30</b>        | vector<float> | ptcone30 isolation for the lepton |\n",
    " <b id=\"lep_etcone20\">lep_etcone20</b>        | vector<float> | etcone20 isolation for the lepton |\n",
    " <b id=\"lep_trackd0pvunbiased\">lep_trackd0pvunbiased</b> | vector<float>  | d0 of the track associated to the lepton at the point of closest approach (p.o.a.) |\n",
    " <b id=\"lep_tracksigd0pvunbiased\">lep_tracksigd0pvunbiased</b> | vector<float>  | d0 signifcance of the track associated to the lepton at the p.o.a. |\n",
    " <b id=\"met_et\">met_et                        | float         | Transverse energy of the missing momentum vector |\n",
    " <b id=\"met_phi\">met_phi                      | float         | Azimuthal angle of the missing momentum vector |\n",
    " <b id=\"jet_n\">jet_n                          | int           | number of selected jets |\n",
    " <b id=\"jet_pt\">jet_pt                        | vector<float> | transverse momentum of the jet |\n",
    " <b id=\"jet_eta\">jet_eta                      | vector<float> | pseudorapidity of the jet |\n",
    " <b id=\"jet_phi\">jet_phi                      | vector<float> | azimuthal angle of the jet |\n",
    " <b id=\"jet_E\">jet_E                          | vector<float> | energy of the jet |\n",
    " <b id=\"jet_m\">jet_m                          | vector<float> | invariant mass of the jet |\n",
    " <b id=\"jet_jvf\">jet_jvf                      | vector<float> | JetVertexFraction of the jet |\n",
    " <b id=\"jet_flag\">jet_flag                    | vector<int>   | bitmask implementing object cuts of the top group |\n",
    " <b id=\"jet_trueflav\">jet_trueflav            | vector<int>   | true flavor of the jet |\n",
    " <b id=\"jet_truthMatched\">jet_truthMatched    | vector<int>   | information whether the jet matches a jet on truth level |\n",
    " <b id=\"jet_SV0\">jet_SV0                      | vector<float> | SV0 weight of the jet |\n",
    " <b id=\"jet_MV1\">jet_MV1                      | vector<float> | MV1 weight of the jet |\n",
    " <b id=\"scaleFactor_BTAG\">scaleFactor_BTAG    | float         | scalefactor for btagging |\n",
    " <b id=\"scaleFactor_ELE\">scaleFactor_ELE      | float         | scalefactor for electron efficiency |\n",
    " <b id=\"scaleFactor_JVFSF\">scaleFactor_JVFSF  | float         | scalefactor for jet vertex fraction |\n",
    " <b id=\"scaleFactor_MUON\">scaleFactor_MUON    | float         | scalefactor for muon efficiency |\n",
    " <b id=\"scaleFactor_PILEUP\">scaleFactor_PILEUP   | float      | scalefactor for pileup reweighting |\n",
    " <b id=\"scaleFactor_TRIGGER\">scaleFactor_TRIGGER | float      | scalefactor for trigger |\n",
    " <b id=\"scaleFactor_ZVERTEX\">scaleFactor_ZVERTEX | float      | scalefactor for z-vertex reweighting |"
   ]
  },
  {
   "cell_type": "markdown",
   "metadata": {},
   "source": [
    "#### Run a small event loop over the first three events"
   ]
  },
  {
   "cell_type": "code",
   "execution_count": 6,
   "metadata": {},
   "outputs": [
    {
     "name": "stdout",
     "output_type": "stream",
     "text": [
      "Event 0 :: Number of leptons = 1\n",
      "   Lepton 1 is of type 11 and has a transverse momentum of 30 GeV\n",
      "Event 1 :: Number of leptons = 2\n",
      "   Lepton 1 is of type 11 and has a transverse momentum of 93 GeV\n",
      "   Lepton 2 is of type 11 and has a transverse momentum of 20 GeV\n",
      "Event 2 :: Number of leptons = 2\n",
      "   Lepton 1 is of type 11 and has a transverse momentum of 43 GeV\n",
      "   Lepton 2 is of type 11 and has a transverse momentum of 37 GeV\n",
      "\n",
      "Type==11: electron/positron, type==13: muon/anti-muon\n"
     ]
    }
   ],
   "source": [
    "for ievt in range(3): # let's look closer at the first three events in the tree\n",
    "    tree.GetEntry(ievt) # load event ievt\n",
    "    print(\"Event {} :: Number of leptons = {}\".format(ievt, tree.lep_n)) # lep_n is the number of leptons, by leptons we here mean electrons and muons\n",
    "    for ilep in range(tree.lep_n): # loop over the leptons in the event\n",
    "        print(\"   Lepton {} is of type {} and has a transverse momentum of {:.0f} GeV\".format(ilep+1, tree.lep_type[ilep], tree.lep_pt[ilep]*1e-3))\n",
    "print(\"\\nType==11: electron/positron, type==13: muon/anti-muon\")    "
   ]
  },
  {
   "cell_type": "code",
   "execution_count": 7,
   "metadata": {},
   "outputs": [
    {
     "data": {
      "application/vnd.jupyter.widget-view+json": {
       "model_id": "694611a64131443e85d7fc0a62c0c474",
       "version_major": 2,
       "version_minor": 0
      },
      "text/plain": [
       "Button(description='Tip event loop', style=ButtonStyle())"
      ]
     },
     "metadata": {},
     "output_type": "display_data"
    }
   ],
   "source": [
    "%run hints/tip1.py"
   ]
  },
  {
   "cell_type": "markdown",
   "metadata": {},
   "source": [
    "#### Now we'll try to draw the distribution of the transverse momentum for electrons in the first 1000 events.\n",
    "_____________________________________________________"
   ]
  },
  {
   "cell_type": "code",
   "execution_count": 8,
   "metadata": {},
   "outputs": [],
   "source": [
    "# create a histogram with 15 bins, ranging from 15 to 90 GeV\n",
    "h_pt = ROOT.TH1F(\"h_pt\", \"; Electron transverse momentum [GeV]; Number of electrons\", 15, 15., 90.) \n",
    "nevents=1000\n",
    "ievt=0\n",
    "for evt in tree: # start the event loop\n",
    "    ievt+=1\n",
    "    if ievt >= nevents: break # terminate the loop after 1000 events\n",
    "        \n",
    "    for ilep in range(evt.lep_n): # loop over leptons (lepton means electron or muon)\n",
    "        if evt.lep_type[ilep] == 11: # consider only electrons (type 11)\n",
    "            h_pt.Fill(evt.lep_pt[ilep]*1e-3) # fill histogram (file stores momentum in MeV)"
   ]
  },
  {
   "cell_type": "code",
   "execution_count": 10,
   "metadata": {},
   "outputs": [],
   "source": [
    "# This \"magic\" command is needed to activate interactive visualisation that \n",
    "# enables zooming and adjusting the axis ranges of the plots\n",
    "%jsroot on "
   ]
  },
  {
   "cell_type": "code",
   "execution_count": 15,
   "metadata": {},
   "outputs": [
    {
     "name": "stderr",
     "output_type": "stream",
     "text": [
      "Warning in <TCanvas::Constructor>: Deleting canvas with same name: Canvas\n"
     ]
    },
    {
     "data": {
      "text/html": [
       "\n",
       "<div id=\"root_plot_5\"\n",
       "     style=\"width: 796px; height: 572px\">\n",
       "</div>\n",
       "\n",
       "<script>\n",
       " requirejs.config({\n",
       "     paths: {\n",
       "       'JSRootCore' : '/static/jsroot//scripts/JSRootCore',\n",
       "     }\n",
       "   });\n",
       " require(['JSRootCore'],\n",
       "     function(Core) {\n",
       "       var obj = Core.JSONR_unref({\"_typename\":\"TCanvas\",\"fUniqueID\":0,\"fBits\":53673992,\"fLineColor\":1,\"fLineStyle\":1,\"fLineWidth\":1,\"fFillColor\":0,\"fFillStyle\":1001,\"fLeftMargin\":0.1,\"fRightMargin\":0.1,\"fBottomMargin\":0.1,\"fTopMargin\":0.1,\"fXfile\":2,\"fYfile\":2,\"fAfile\":1,\"fXstat\":0.99,\"fYstat\":0.99,\"fAstat\":2,\"fFrameFillColor\":0,\"fFrameLineColor\":1,\"fFrameFillStyle\":1001,\"fFrameLineStyle\":1,\"fFrameLineWidth\":1,\"fFrameBorderSize\":1,\"fFrameBorderMode\":0,\"fX1\":5.62499930150803,\"fY1\":-39.6220079729372,\"fX2\":99.375000698492,\"fY2\":356.598048139878,\"fXtoAbsPixelk\":-47.7599433576581,\"fXtoPixelk\":-47.7599433576581,\"fXtoPixel\":8.49066654014587,\"fYtoAbsPixelk\":514.800046590614,\"fYtoPixelk\":514.800046590614,\"fYtoPixel\":-1.44364221642817,\"fUtoAbsPixelk\":5e-5,\"fUtoPixelk\":5e-5,\"fUtoPixel\":796,\"fVtoAbsPixelk\":572.00005,\"fVtoPixelk\":572,\"fVtoPixel\":-572,\"fAbsPixeltoXk\":5.62499930150803,\"fPixeltoXk\":5.62499930150803,\"fPixeltoX\":0.117776383664553,\"fAbsPixeltoYk\":356.598048139878,\"fPixeltoYk\":-39.6220079729372,\"fPixeltoY\":-0.692692405791635,\"fXlowNDC\":0,\"fYlowNDC\":0,\"fXUpNDC\":0,\"fYUpNDC\":0,\"fWNDC\":1,\"fHNDC\":1,\"fAbsXlowNDC\":0,\"fAbsYlowNDC\":0,\"fAbsWNDC\":1,\"fAbsHNDC\":1,\"fUxmin\":15,\"fUymin\":0,\"fUxmax\":90,\"fUymax\":316.976040166941,\"fTheta\":30,\"fPhi\":30,\"fAspectRatio\":0,\"fNumber\":0,\"fTickx\":0,\"fTicky\":0,\"fLogx\":0,\"fLogy\":0,\"fLogz\":0,\"fPadPaint\":0,\"fCrosshair\":0,\"fCrosshairPos\":0,\"fBorderSize\":2,\"fBorderMode\":0,\"fModified\":false,\"fGridx\":false,\"fGridy\":false,\"fAbsCoord\":false,\"fEditable\":true,\"fFixedAspectRatio\":false,\"fPrimitives\":{\"_typename\":\"TList\",\"name\":\"TList\",\"arr\":[{\"_typename\":\"TFrame\",\"fUniqueID\":0,\"fBits\":50331656,\"fLineColor\":1,\"fLineStyle\":1,\"fLineWidth\":1,\"fFillColor\":0,\"fFillStyle\":1001,\"fX1\":15,\"fY1\":0,\"fX2\":90,\"fY2\":316.976040166941,\"fBorderSize\":1,\"fBorderMode\":0},{\"_typename\":\"TH1F\",\"fUniqueID\":0,\"fBits\":50331656,\"fName\":\"h_pt\",\"fTitle\":\"\",\"fLineColor\":602,\"fLineStyle\":1,\"fLineWidth\":1,\"fFillColor\":0,\"fFillStyle\":1001,\"fMarkerColor\":1,\"fMarkerStyle\":1,\"fMarkerSize\":1,\"fNcells\":17,\"fXaxis\":{\"_typename\":\"TAxis\",\"fUniqueID\":0,\"fBits\":50331648,\"fName\":\"xaxis\",\"fTitle\":\" Electron transverse momentum [GeV]\",\"fNdivisions\":510,\"fAxisColor\":1,\"fLabelColor\":1,\"fLabelFont\":42,\"fLabelOffset\":0.005,\"fLabelSize\":0.035,\"fTickLength\":0.03,\"fTitleOffset\":1,\"fTitleSize\":0.035,\"fTitleColor\":1,\"fTitleFont\":42,\"fNbins\":15,\"fXmin\":15,\"fXmax\":90,\"fXbins\":[],\"fFirst\":0,\"fLast\":0,\"fBits2\":0,\"fTimeDisplay\":false,\"fTimeFormat\":\"\",\"fLabels\":null,\"fModLabs\":null},\"fYaxis\":{\"_typename\":\"TAxis\",\"fUniqueID\":0,\"fBits\":50331648,\"fName\":\"yaxis\",\"fTitle\":\" Number of electrons\",\"fNdivisions\":510,\"fAxisColor\":1,\"fLabelColor\":1,\"fLabelFont\":42,\"fLabelOffset\":0.005,\"fLabelSize\":0.035,\"fTickLength\":0.03,\"fTitleOffset\":0,\"fTitleSize\":0.035,\"fTitleColor\":1,\"fTitleFont\":42,\"fNbins\":1,\"fXmin\":0,\"fXmax\":1,\"fXbins\":[],\"fFirst\":0,\"fLast\":0,\"fBits2\":0,\"fTimeDisplay\":false,\"fTimeFormat\":\"\",\"fLabels\":null,\"fModLabs\":null},\"fZaxis\":{\"_typename\":\"TAxis\",\"fUniqueID\":0,\"fBits\":50331648,\"fName\":\"zaxis\",\"fTitle\":\"\",\"fNdivisions\":510,\"fAxisColor\":1,\"fLabelColor\":1,\"fLabelFont\":42,\"fLabelOffset\":0.005,\"fLabelSize\":0.035,\"fTickLength\":0.03,\"fTitleOffset\":1,\"fTitleSize\":0.035,\"fTitleColor\":1,\"fTitleFont\":42,\"fNbins\":1,\"fXmin\":0,\"fXmax\":1,\"fXbins\":[],\"fFirst\":0,\"fLast\":0,\"fBits2\":0,\"fTimeDisplay\":false,\"fTimeFormat\":\"\",\"fLabels\":null,\"fModLabs\":null},\"fBarOffset\":0,\"fBarWidth\":1000,\"fEntries\":1578,\"fTsumw\":1516,\"fTsumw2\":1516,\"fTsumwx\":62280.4302529297,\"fTsumwx2\":2810609.02092064,\"fMaximum\":-1111,\"fMinimum\":-1111,\"fNormFactor\":0,\"fContour\":[],\"fSumw2\":[],\"fOption\":\"\",\"fFunctions\":{\"_typename\":\"TList\",\"name\":\"TList\",\"arr\":[{\"_typename\":\"TPaveStats\",\"fUniqueID\":0,\"fBits\":50331657,\"fLineColor\":1,\"fLineStyle\":1,\"fLineWidth\":1,\"fFillColor\":0,\"fFillStyle\":1001,\"fX1\":78.7500018998981,\"fY1\":267.44853787615,\"fX2\":97.5000024586917,\"fY2\":330.843745437207,\"fX1NDC\":0.780000016093254,\"fY1NDC\":0.775000005960464,\"fX2NDC\":0.980000019073486,\"fY2NDC\":0.935000002384186,\"fBorderSize\":1,\"fInit\":1,\"fShadowColor\":1,\"fCornerRadius\":0,\"fOption\":\"brNDC\",\"fName\":\"stats\",\"fTextAngle\":0,\"fTextSize\":0,\"fTextAlign\":12,\"fTextColor\":1,\"fTextFont\":42,\"fLabel\":\"\",\"fLongest\":18,\"fMargin\":0.05,\"fLines\":{\"_typename\":\"TList\",\"name\":\"TList\",\"arr\":[{\"_typename\":\"TLatex\",\"fUniqueID\":0,\"fBits\":50331648,\"fName\":\"\",\"fTitle\":\"h_pt\",\"fTextAngle\":0,\"fTextSize\":0.0368,\"fTextAlign\":0,\"fTextColor\":0,\"fTextFont\":0,\"fX\":0,\"fY\":0,\"fLineColor\":1,\"fLineStyle\":1,\"fLineWidth\":2,\"fLimitFactorSize\":3,\"fOriginSize\":0.0368000008165836},{\"_typename\":\"TLatex\",\"fUniqueID\":0,\"fBits\":50331648,\"fName\":\"\",\"fTitle\":\"Entries = 1578   \",\"fTextAngle\":0,\"fTextSize\":0,\"fTextAlign\":0,\"fTextColor\":0,\"fTextFont\":0,\"fX\":0,\"fY\":0,\"fLineColor\":1,\"fLineStyle\":1,\"fLineWidth\":2,\"fLimitFactorSize\":3,\"fOriginSize\":0.04},{\"_typename\":\"TLatex\",\"fUniqueID\":0,\"fBits\":50331648,\"fName\":\"\",\"fTitle\":\"Mean  =  41.08\",\"fTextAngle\":0,\"fTextSize\":0,\"fTextAlign\":0,\"fTextColor\":0,\"fTextFont\":0,\"fX\":0,\"fY\":0,\"fLineColor\":1,\"fLineStyle\":1,\"fLineWidth\":2,\"fLimitFactorSize\":3,\"fOriginSize\":0.04},{\"_typename\":\"TLatex\",\"fUniqueID\":0,\"fBits\":50331648,\"fName\":\"\",\"fTitle\":\"Std Dev   =  12.89\",\"fTextAngle\":0,\"fTextSize\":0,\"fTextAlign\":0,\"fTextColor\":0,\"fTextFont\":0,\"fX\":0,\"fY\":0,\"fLineColor\":1,\"fLineStyle\":1,\"fLineWidth\":2,\"fLimitFactorSize\":3,\"fOriginSize\":0.04}],\"opt\":[\"\",\"\",\"\",\"\"]},\"fOptFit\":0,\"fOptStat\":1111,\"fFitFormat\":\"5.4g\",\"fStatFormat\":\"6.4g\",\"fParent\":{\"$ref\":3}}],\"opt\":[\"brNDC\"]},\"fBufferSize\":0,\"fBuffer\":[],\"fBinStatErrOpt\":0,\"fStatOverflows\":2,\"fArray\":[31,32,59,196,236,238,285,203,81,61,41,22,24,11,18,9,31]}],\"opt\":[\"\",\"e1\"]},\"fExecs\":null,\"fName\":\"Canvas\",\"fTitle\":\"Title\",\"fNumPaletteColor\":0,\"fNextPaletteColor\":0,\"fDISPLAY\":\"$DISPLAY\",\"fDoubleBuffer\":0,\"fRetained\":true,\"fXsizeUser\":0,\"fYsizeUser\":0,\"fXsizeReal\":20,\"fYsizeReal\":15,\"fWindowTopX\":0,\"fWindowTopY\":0,\"fWindowWidth\":0,\"fWindowHeight\":0,\"fCw\":796,\"fCh\":572,\"fCatt\":{\"_typename\":\"TAttCanvas\",\"fXBetween\":2,\"fYBetween\":2,\"fTitleFromTop\":1.2,\"fXdate\":0.2,\"fYdate\":0.3,\"fAdate\":1},\"kMoveOpaque\":true,\"kResizeOpaque\":true,\"fHighLightColor\":2,\"fBatch\":true,\"kShowEventStatus\":false,\"kAutoExec\":true,\"kMenuBar\":true});\n",
       "       Core.draw(\"root_plot_5\", obj, \"\");\n",
       "     }\n",
       " );\n",
       "</script>\n"
      ],
      "text/plain": [
       "<IPython.core.display.HTML object>"
      ]
     },
     "metadata": {},
     "output_type": "display_data"
    }
   ],
   "source": [
    "# open a canvas for drawing\n",
    "canvas = ROOT.TCanvas(\"Canvas\", \"Title\", 800, 600)\n",
    "\n",
    "# draw the histogram\n",
    "h_pt.Draw(\"e1\") # [ENG] the draw option \"e1\" will draw the histogram with error bars showing the stat. uncertainty\n",
    "\n",
    "# open the canvas\n",
    "canvas.Draw()\n",
    "\n",
    "# NB! If you run some ROOT commands - like the one above making the canvas - several times, you will \n",
    "# see a warning message about deleting an object with the same name. This is just because ROOT keeps track\n",
    "# of objects it has created by their names, so generally these can safely be ignored in these exercises."
   ]
  },
  {
   "cell_type": "markdown",
   "metadata": {},
   "source": [
    "The figure is interactive.\n",
    "Try playing around with it (right-click, scroll the axes...). \n",
    "You can change the drawing  style, title axes, etc. \n",
    "The figure can be saved in png format by right clicking the canvas, or in any format by calling e.g. `canvas.SaveAs(\"figure.pdf\")`\n",
    "__________________________________________________________"
   ]
  },
  {
   "cell_type": "markdown",
   "metadata": {},
   "source": [
    "#### [ENG] In the next notebook you will learn more about ROOT, especially how to fit functions to distributions measured in data."
   ]
  }
 ],
 "metadata": {
  "kernelspec": {
   "display_name": "Python 3",
   "language": "python",
   "name": "python3"
  },
  "language_info": {
   "codemirror_mode": {
    "name": "ipython",
    "version": 3
   },
   "file_extension": ".py",
   "mimetype": "text/x-python",
   "name": "python",
   "nbconvert_exporter": "python",
   "pygments_lexer": "ipython3",
   "version": "3.6.6"
  }
 },
 "nbformat": 4,
 "nbformat_minor": 2
}
