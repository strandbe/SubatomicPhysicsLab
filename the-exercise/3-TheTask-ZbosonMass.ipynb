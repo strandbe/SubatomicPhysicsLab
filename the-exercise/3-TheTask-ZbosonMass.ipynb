{
 "cells": [
  {
   "cell_type": "markdown",
   "metadata": {},
   "source": [
    "## <CENTER> Measuring the mass of the $Z^0$ boson with data from the ATLAS experiment\n",
    "    \n",
    "_____________________________________________"
   ]
  },
  {
   "cell_type": "markdown",
   "metadata": {},
   "source": [
    "### Using what you have learned so far, it is now time to measure the mass of the $Z^0$ boson. Below are some suggestions on functions that could prove useful, to be filled in. We are available to answer questions during the assigned time of the lab, so ask for help if you need. Good luck!\n",
    "_____________________________________________"
   ]
  },
  {
   "cell_type": "code",
   "execution_count": 1,
   "metadata": {},
   "outputs": [],
   "source": [
    "# to use the ROOT libraries you need to... what?\n",
    "\n",
    "# ..."
   ]
  },
  {
   "cell_type": "markdown",
   "metadata": {},
   "source": [
    "### Get the data"
   ]
  },
  {
   "cell_type": "code",
   "execution_count": null,
   "metadata": {},
   "outputs": [],
   "source": [
    "# http://opendata.atlas.cern/release/samples\n",
    "# Look at the above web page, you will find simulated data and real experimental data recorded with the detector.\n",
    "# For the latter you should find two files, one with electrons/positrons and one with muons/antimuons.\n",
    "datafile = ROOT.TFile.Open(\"...\") \n",
    "# ..."
   ]
  },
  {
   "cell_type": "code",
   "execution_count": null,
   "metadata": {},
   "outputs": [],
   "source": [
    "# load data into tree (TFile::ls() can be used to list the file contents)\n",
    "tree = datafile.Get(\"...\")\n",
    "# ...."
   ]
  },
  {
   "cell_type": "markdown",
   "metadata": {},
   "source": [
    "### [SWE] Funktion för invariant massa\n",
    "_________________________________________\n",
    "### [ENG] Helper function for invariant mass"
   ]
  },
  {
   "cell_type": "code",
   "execution_count": null,
   "metadata": {},
   "outputs": [],
   "source": [
    "def getInvMass(lep1_pt, lep1_eta, lep1_phi, lep2_pt, lep2_eta, lep2_phi):\n",
    "    ''' Compute the invariant mass using the formula from the Introduction notebook (assume massless particles)'''\n",
    "    import math\n",
    "    ...\n",
    "    return ... "
   ]
  },
  {
   "cell_type": "markdown",
   "metadata": {},
   "source": [
    "### Prepare histograms"
   ]
  },
  {
   "cell_type": "code",
   "execution_count": null,
   "metadata": {},
   "outputs": [],
   "source": [
    "# create a histogram for invariant mass\n",
    "\n",
    "# define the number of bins and axis range\n",
    "nbins = ..\n",
    "lowedge = ..\n",
    "upedge = ..\n",
    "\n",
    "h_mass = ROOT.TH1F(\"h_mass\", \"; Invariant mass [GeV]; Number of events\", ..)\n",
    ".."
   ]
  },
  {
   "cell_type": "markdown",
   "metadata": {},
   "source": [
    "### Run the event loop, find electron-positron/myon-antimuon pairs, evaluate the invariant mass, fill histogram(s). You are looking at data-not all events will contain a $Z^0$ boson. What cuts/requirements do you need to apply to filter out $Z^0$ boson candidate events? In the notebook 1 the different variables in the tree are listed."
   ]
  },
  {
   "cell_type": "code",
   "execution_count": null,
   "metadata": {},
   "outputs": [],
   "source": [
    "for evt in tree:\n",
    "    ...."
   ]
  },
  {
   "cell_type": "code",
   "execution_count": 3,
   "metadata": {},
   "outputs": [
    {
     "data": {
      "application/vnd.jupyter.widget-view+json": {
       "model_id": "0a162871b86d4dee813cdb11a53da49e",
       "version_major": 2,
       "version_minor": 0
      },
      "text/plain": [
       "Button(description='Tip event loop', style=ButtonStyle())"
      ]
     },
     "metadata": {},
     "output_type": "display_data"
    },
    {
     "name": "stdout",
     "output_type": "stream",
     "text": [
      "Since it takes a long time to run over all data, only run over a small number of events while developing. Then, when you are satisfied with the method, you can increase the number of events.\n"
     ]
    }
   ],
   "source": [
    "%run hints/tip2.py"
   ]
  },
  {
   "cell_type": "markdown",
   "metadata": {},
   "source": [
    "### Draw the invariant mass. Do you see the $Z^0$ boson peak?"
   ]
  },
  {
   "cell_type": "code",
   "execution_count": null,
   "metadata": {},
   "outputs": [],
   "source": [
    "canvas = ...\n",
    "h_mass.Draw(\"...\")\n",
    "canvas.Draw()"
   ]
  },
  {
   "cell_type": "markdown",
   "metadata": {},
   "source": [
    "### Make a fit to the data. What function should you use? Do we need a signal plus background model? Try different functions and ranges. Look at 2-Fitting-with-ROOT for help."
   ]
  },
  {
   "cell_type": "code",
   "execution_count": 4,
   "metadata": {},
   "outputs": [
    {
     "data": {
      "application/vnd.jupyter.widget-view+json": {
       "model_id": "0dbe416cb9614371a4b72a904aaa1c4e",
       "version_major": 2,
       "version_minor": 0
      },
      "text/plain": [
       "Button(description='Tip resonance shape', style=ButtonStyle())"
      ]
     },
     "metadata": {},
     "output_type": "display_data"
    },
    {
     "name": "stdout",
     "output_type": "stream",
     "text": [
      "Check out https://en.wikipedia.org/wiki/Resonance_(particle_physics)\n"
     ]
    }
   ],
   "source": [
    "%run hints/hint3.py"
   ]
  },
  {
   "cell_type": "code",
   "execution_count": null,
   "metadata": {},
   "outputs": [],
   "source": [
    "### declare function\n",
    "func = ROOT.TF1(\"...\", ...)"
   ]
  },
  {
   "cell_type": "code",
   "execution_count": null,
   "metadata": {},
   "outputs": [],
   "source": [
    "h_mass.Fit(\"fcn_name\", \"S\", ...)\n",
    "canvas.Draw()"
   ]
  }
 ],
 "metadata": {
  "kernelspec": {
   "display_name": "Python 3",
   "language": "python",
   "name": "python3"
  },
  "language_info": {
   "codemirror_mode": {
    "name": "ipython",
    "version": 3
   },
   "file_extension": ".py",
   "mimetype": "text/x-python",
   "name": "python",
   "nbconvert_exporter": "python",
   "pygments_lexer": "ipython3",
   "version": "3.6.6"
  }
 },
 "nbformat": 4,
 "nbformat_minor": 2
}
